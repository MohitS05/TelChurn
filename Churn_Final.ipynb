{
  "nbformat": 4,
  "nbformat_minor": 0,
  "metadata": {
    "colab": {
      "name": "Churn Final",
      "provenance": [],
      "include_colab_link": true
    },
    "kernelspec": {
      "name": "python3",
      "display_name": "Python 3"
    }
  },
  "cells": [
    {
      "cell_type": "markdown",
      "metadata": {
        "id": "view-in-github",
        "colab_type": "text"
      },
      "source": [
        "<a href=\"https://colab.research.google.com/github/MohitS05/TelChurn/blob/master/Churn_Final.ipynb\" target=\"_parent\"><img src=\"https://colab.research.google.com/assets/colab-badge.svg\" alt=\"Open In Colab\"/></a>"
      ]
    },
    {
      "cell_type": "code",
      "metadata": {
        "id": "EE5IMWHeLH-r",
        "colab_type": "code",
        "outputId": "5c5abc13-3087-410a-d95a-3657f9b68b35",
        "colab": {
          "base_uri": "https://localhost:8080/",
          "height": 122
        }
      },
      "source": [
        "import pprint\n",
        "import csv\n",
        "import pandas as pd\n",
        "from pprint import pprint\n",
        "from google.colab import drive\n",
        "drive.mount('/content/gdrive')\n",
        "dat= pd.read_csv('/content/gdrive/My Drive/Machine Learning Internship/TelecomChurnData.csv')\n"
      ],
      "execution_count": 0,
      "outputs": [
        {
          "output_type": "stream",
          "text": [
            "Go to this URL in a browser: https://accounts.google.com/o/oauth2/auth?client_id=947318989803-6bn6qk8qdgf4n4g3pfee6491hc0brc4i.apps.googleusercontent.com&redirect_uri=urn%3Aietf%3Awg%3Aoauth%3A2.0%3Aoob&scope=email%20https%3A%2F%2Fwww.googleapis.com%2Fauth%2Fdocs.test%20https%3A%2F%2Fwww.googleapis.com%2Fauth%2Fdrive%20https%3A%2F%2Fwww.googleapis.com%2Fauth%2Fdrive.photos.readonly%20https%3A%2F%2Fwww.googleapis.com%2Fauth%2Fpeopleapi.readonly&response_type=code\n",
            "\n",
            "Enter your authorization code:\n",
            "··········\n",
            "Mounted at /content/gdrive\n"
          ],
          "name": "stdout"
        }
      ]
    },
    {
      "cell_type": "code",
      "metadata": {
        "id": "qTPcKHHNLNgb",
        "colab_type": "code",
        "colab": {}
      },
      "source": [
        "from sklearn.model_selection import train_test_split\n",
        "from sklearn.ensemble import RandomForestClassifier\n",
        "import numpy as np\n",
        "\n",
        "  from sklearn.preprocessing import LabelEncoder , OneHotEncoder"
      ],
      "execution_count": 0,
      "outputs": []
    },
    {
      "cell_type": "markdown",
      "metadata": {
        "id": "crT_dohmLXS9",
        "colab_type": "text"
      },
      "source": [
        "##Checking for NULL Values"
      ]
    },
    {
      "cell_type": "code",
      "metadata": {
        "id": "drQpbcqwLeCh",
        "colab_type": "code",
        "colab": {}
      },
      "source": [
        "def fixmisval():\n",
        "  pass"
      ],
      "execution_count": 0,
      "outputs": []
    },
    {
      "cell_type": "code",
      "metadata": {
        "id": "Q3bIdLB9Le8N",
        "colab_type": "code",
        "outputId": "fd728e46-597e-4647-abb9-20fb60414e00",
        "colab": {
          "base_uri": "https://localhost:8080/",
          "height": 34
        }
      },
      "source": [
        "if(dat.isnull().any().any()):\n",
        "  print(\"Missing Values present\")\n",
        "  fixmisval()\n",
        "else:\n",
        "  print(\"No Missing Values present\")\n",
        "  "
      ],
      "execution_count": 0,
      "outputs": [
        {
          "output_type": "stream",
          "text": [
            "No Missing Values present\n"
          ],
          "name": "stdout"
        }
      ]
    },
    {
      "cell_type": "markdown",
      "metadata": {
        "id": "_pAjABuWLln5",
        "colab_type": "text"
      },
      "source": [
        "##Preparing Data for training"
      ]
    },
    {
      "cell_type": "code",
      "metadata": {
        "id": "V-5dPAuoLpAs",
        "colab_type": "code",
        "colab": {}
      },
      "source": [
        "from sklearn.preprocessing import LabelEncoder\n",
        "from sklearn.preprocessing import StandardScaler"
      ],
      "execution_count": 0,
      "outputs": []
    },
    {
      "cell_type": "code",
      "metadata": {
        "id": "bcVq5nqqLtSB",
        "colab_type": "code",
        "colab": {}
      },
      "source": [
        "Id_col     = ['customerID']\n",
        "target_col = [\"Churn\"]\n",
        "cat_cols   = dat.nunique()[dat.nunique() < 6].keys().tolist()\n",
        "cat_cols   = [x for x in cat_cols if x not in target_col]\n",
        "\n",
        "num_cols   = [x for x in dat.columns if x not in cat_cols + target_col + Id_col]\n",
        "\n",
        "bin_cols   = dat.nunique()[dat.nunique() == 2].keys().tolist()\n",
        "\n",
        "multi_cols = [i for i in cat_cols if i not in bin_cols]\n",
        "\n",
        "le = LabelEncoder()\n",
        "for i in bin_cols :\n",
        "    dat[i] = le.fit_transform(dat[i])\n",
        "    \n",
        "telcom = pd.get_dummies(data = dat,columns = multi_cols )\n",
        "\n",
        "df_dat_og = dat.copy()\n",
        "dat = dat.drop(columns = num_cols,axis = 1)\n"
      ],
      "execution_count": 0,
      "outputs": []
    },
    {
      "cell_type": "markdown",
      "metadata": {
        "id": "h99X5sqtMAVv",
        "colab_type": "text"
      },
      "source": [
        "Putting Churn Column at end becuase it was creating some error if it was in middle "
      ]
    },
    {
      "cell_type": "code",
      "metadata": {
        "id": "CtBdbRxwMFHc",
        "colab_type": "code",
        "outputId": "b91dc155-f417-441d-8409-2e67635237be",
        "colab": {
          "base_uri": "https://localhost:8080/",
          "height": 71
        }
      },
      "source": [
        "cols = list(telcom.columns.values) #Make a list of all of the columns in the data\n",
        "print(len(cols))\n",
        "print(cols)\n",
        "cols.pop(cols.index('Churn')) #Remove b from list\n",
        "#cols.pop(cols.index('tenure')) #Remove x from list\n",
        "telcom = telcom[cols+['Churn']]\n"
      ],
      "execution_count": 0,
      "outputs": [
        {
          "output_type": "stream",
          "text": [
            "42\n",
            "['customerID', 'gender', 'SeniorCitizen', 'Partner', 'Dependents', 'tenure', 'PhoneService', 'PaperlessBilling', 'MonthlyCharges', 'TotalCharges', 'Churn', 'MultipleLines_No', 'MultipleLines_No phone service', 'MultipleLines_Yes', 'InternetService_DSL', 'InternetService_Fiber optic', 'InternetService_No', 'OnlineSecurity_No', 'OnlineSecurity_No internet service', 'OnlineSecurity_Yes', 'OnlineBackup_No', 'OnlineBackup_No internet service', 'OnlineBackup_Yes', 'DeviceProtection_No', 'DeviceProtection_No internet service', 'DeviceProtection_Yes', 'TechSupport_No', 'TechSupport_No internet service', 'TechSupport_Yes', 'StreamingTV_No', 'StreamingTV_No internet service', 'StreamingTV_Yes', 'StreamingMovies_No', 'StreamingMovies_No internet service', 'StreamingMovies_Yes', 'Contract_Month-to-month', 'Contract_One year', 'Contract_Two year', 'PaymentMethod_Bank transfer (automatic)', 'PaymentMethod_Credit card (automatic)', 'PaymentMethod_Electronic check', 'PaymentMethod_Mailed check']\n"
          ],
          "name": "stdout"
        }
      ]
    },
    {
      "cell_type": "code",
      "metadata": {
        "id": "0QH8glH9MMdJ",
        "colab_type": "code",
        "colab": {}
      },
      "source": [
        "  y = telcom.iloc[:, 41].values\n",
        "  X=telcom.iloc[:,1:40]"
      ],
      "execution_count": 0,
      "outputs": []
    },
    {
      "cell_type": "markdown",
      "metadata": {
        "id": "xEeod_1-MXsQ",
        "colab_type": "text"
      },
      "source": [
        "s w"
      ]
    },
    {
      "cell_type": "markdown",
      "metadata": {
        "id": "y0Hw4snnMWDG",
        "colab_type": "text"
      },
      "source": [
        "###Some of the Data type were Text so changing them to numeric and then replacing missing values with Mean"
      ]
    },
    {
      "cell_type": "code",
      "metadata": {
        "id": "_2TgZxS7MhTM",
        "colab_type": "code",
        "outputId": "8a14bc6b-129c-42e9-d869-d358a76392de",
        "colab": {
          "base_uri": "https://localhost:8080/",
          "height": 85
        }
      },
      "source": [
        "X.at[488,'TotalCharges']=52.55\n",
        "\n",
        "X['TotalCharges'] = pd.to_numeric(X['TotalCharges'],errors='coerce')\n",
        "\n",
        "#X.at[488,'TotalCharges']=52.55\n",
        "null_columns=X.columns[X.isnull().any()]\n",
        "X[null_columns].isnull().sum()\n",
        "print(X[X.isnull().any(axis=1)][null_columns].head())\n",
        "print(X['TotalCharges'].mean())\n",
        "X.at[753,'TotalCharges']=2282.98\n",
        "X.at[936,'TotalCharges']=2282.98\n",
        "X.at[1082,'TotalCharges']=2282.98\n",
        "X.at[1340,'TotalCharges']=2282.98\n",
        "X.at[3331,'TotalCharges']=2282.98\n",
        "X.at[3826,'TotalCharges']=2282.98\n",
        "X.at[4380,'TotalCharges']=2282.98\n",
        "X.at[5218,'TotalCharges']=2282.98\n",
        "X.at[6670,'TotalCharges']=2282.98\n",
        "X.at[6754,'TotalCharges']=2282.98\n",
        "\n",
        "#sze = X.shape[0]\n",
        "\n",
        "#for i in range(sze):\n",
        "# if(X.at[i,'TotalCharges']=='NULL'):\n",
        "#   X.at[i,'TotalCharges'] = X[TotalCharges].mean()"
      ],
      "execution_count": 0,
      "outputs": [
        {
          "output_type": "stream",
          "text": [
            "Empty DataFrame\n",
            "Columns: []\n",
            "Index: []\n",
            "2282.983252875199\n"
          ],
          "name": "stdout"
        }
      ]
    },
    {
      "cell_type": "markdown",
      "metadata": {
        "id": "NVoTUqDiM5jw",
        "colab_type": "text"
      },
      "source": [
        "##Split the data and run the algorithm"
      ]
    },
    {
      "cell_type": "code",
      "metadata": {
        "id": "5gzYBCUzM9xD",
        "colab_type": "code",
        "outputId": "1148db0b-9461-44e5-c0d4-16fad8192cb4",
        "colab": {
          "base_uri": "https://localhost:8080/",
          "height": 180
        }
      },
      "source": [
        "X_train, X_test, y_train, y_test = train_test_split(X, y, test_size=0.1, random_state=0)  \n",
        "#pprint(X_train)"
      ],
      "execution_count": 0,
      "outputs": [
        {
          "output_type": "error",
          "ename": "NameError",
          "evalue": "ignored",
          "traceback": [
            "\u001b[0;31m---------------------------------------------------------------------------\u001b[0m",
            "\u001b[0;31mNameError\u001b[0m                                 Traceback (most recent call last)",
            "\u001b[0;32m<ipython-input-1-fe7a3e2af48d>\u001b[0m in \u001b[0;36m<module>\u001b[0;34m()\u001b[0m\n\u001b[0;32m----> 1\u001b[0;31m \u001b[0mX_train\u001b[0m\u001b[0;34m,\u001b[0m \u001b[0mX_test\u001b[0m\u001b[0;34m,\u001b[0m \u001b[0my_train\u001b[0m\u001b[0;34m,\u001b[0m \u001b[0my_test\u001b[0m \u001b[0;34m=\u001b[0m \u001b[0mtrain_test_split\u001b[0m\u001b[0;34m(\u001b[0m\u001b[0mX\u001b[0m\u001b[0;34m,\u001b[0m \u001b[0my\u001b[0m\u001b[0;34m,\u001b[0m \u001b[0mtest_size\u001b[0m\u001b[0;34m=\u001b[0m\u001b[0;36m0.1\u001b[0m\u001b[0;34m,\u001b[0m \u001b[0mrandom_state\u001b[0m\u001b[0;34m=\u001b[0m\u001b[0;36m0\u001b[0m\u001b[0;34m)\u001b[0m\u001b[0;34m\u001b[0m\u001b[0;34m\u001b[0m\u001b[0m\n\u001b[0m\u001b[1;32m      2\u001b[0m \u001b[0;31m#pprint(X_train)\u001b[0m\u001b[0;34m\u001b[0m\u001b[0;34m\u001b[0m\u001b[0;34m\u001b[0m\u001b[0m\n",
            "\u001b[0;31mNameError\u001b[0m: name 'train_test_split' is not defined"
          ]
        }
      ]
    },
    {
      "cell_type": "code",
      "metadata": {
        "id": "ULVpVnFYNHiM",
        "colab_type": "code",
        "colab": {}
      },
      "source": [
        "regressor = RandomForestClassifier(n_estimators=20, random_state=0)  \n",
        "regressor.fit(X_train, y_train)  \n",
        "y_pred = regressor.predict(X_test) "
      ],
      "execution_count": 0,
      "outputs": []
    },
    {
      "cell_type": "code",
      "metadata": {
        "id": "D3uV4BwGNKSK",
        "colab_type": "code",
        "outputId": "60fb7b4a-acde-4669-cc07-7f7ff20476a8",
        "colab": {
          "base_uri": "https://localhost:8080/",
          "height": 51
        }
      },
      "source": [
        "print(y_pred)\n",
        "print(y_test)"
      ],
      "execution_count": 0,
      "outputs": [
        {
          "output_type": "stream",
          "text": [
            "[0 0 0 ... 0 0 1]\n",
            "[0 0 0 ... 0 1 0]\n"
          ],
          "name": "stdout"
        }
      ]
    },
    {
      "cell_type": "markdown",
      "metadata": {
        "id": "9LU-frzwNOu9",
        "colab_type": "text"
      },
      "source": [
        "##Evaluating the results of Random Forest"
      ]
    },
    {
      "cell_type": "code",
      "metadata": {
        "id": "OoDsG9NyNQZm",
        "colab_type": "code",
        "outputId": "a8d449ab-3d7d-4527-b3b9-113a483bad60",
        "colab": {
          "base_uri": "https://localhost:8080/",
          "height": 221
        }
      },
      "source": [
        "from sklearn.metrics import classification_report, confusion_matrix, accuracy_score\n",
        "\n",
        "print(confusion_matrix(y_test,y_pred))  \n",
        "print(classification_report(y_test,y_pred))  \n",
        "print(accuracy_score(y_test, y_pred))"
      ],
      "execution_count": 0,
      "outputs": [
        {
          "output_type": "stream",
          "text": [
            "[[3712  400]\n",
            " [ 824  699]]\n",
            "              precision    recall  f1-score   support\n",
            "\n",
            "           0       0.82      0.90      0.86      4112\n",
            "           1       0.64      0.46      0.53      1523\n",
            "\n",
            "    accuracy                           0.78      5635\n",
            "   macro avg       0.73      0.68      0.70      5635\n",
            "weighted avg       0.77      0.78      0.77      5635\n",
            "\n",
            "0.7827861579414375\n"
          ],
          "name": "stdout"
        }
      ]
    },
    {
      "cell_type": "markdown",
      "metadata": {
        "id": "MVYxVCIbNZIX",
        "colab_type": "text"
      },
      "source": [
        "##For Descion tree"
      ]
    },
    {
      "cell_type": "code",
      "metadata": {
        "id": "ytEr3_1yNYXD",
        "colab_type": "code",
        "colab": {}
      },
      "source": [
        "from sklearn.tree import DecisionTreeClassifier \n",
        "\n",
        "clf = DecisionTreeClassifier()\n",
        "\n",
        "clf = clf.fit(X_train,y_train)\n",
        "\n",
        "y_pred = clf.predict(X_test)"
      ],
      "execution_count": 0,
      "outputs": []
    },
    {
      "cell_type": "code",
      "metadata": {
        "id": "zr6eZW6lN-Q9",
        "colab_type": "code",
        "outputId": "eceae613-76b9-46c9-81bd-c620c8a1e04b",
        "colab": {
          "base_uri": "https://localhost:8080/",
          "height": 221
        }
      },
      "source": [
        "\n",
        "print(confusion_matrix(y_test,y_pred))  \n",
        "print(classification_report(y_test,y_pred))  \n",
        "print(accuracy_score(y_test, y_pred))"
      ],
      "execution_count": 0,
      "outputs": [
        {
          "output_type": "stream",
          "text": [
            "[[3364  748]\n",
            " [ 787  736]]\n",
            "              precision    recall  f1-score   support\n",
            "\n",
            "           0       0.81      0.82      0.81      4112\n",
            "           1       0.50      0.48      0.49      1523\n",
            "\n",
            "    accuracy                           0.73      5635\n",
            "   macro avg       0.65      0.65      0.65      5635\n",
            "weighted avg       0.73      0.73      0.73      5635\n",
            "\n",
            "0.7275953859804791\n"
          ],
          "name": "stdout"
        }
      ]
    },
    {
      "cell_type": "markdown",
      "metadata": {
        "id": "w9uep4guOdIP",
        "colab_type": "text"
      },
      "source": [
        "##Using Naive Bayes Algorithm"
      ]
    },
    {
      "cell_type": "code",
      "metadata": {
        "id": "4Yq_-XatOCE3",
        "colab_type": "code",
        "colab": {}
      },
      "source": [
        "from sklearn.naive_bayes import GaussianNB\n",
        "\n",
        "gnb = GaussianNB()\n",
        "gnb.fit(X_train, y_train)\n",
        "y_pred = gnb.predict(X_test)"
      ],
      "execution_count": 0,
      "outputs": []
    },
    {
      "cell_type": "code",
      "metadata": {
        "id": "Z5G4PzuROh2p",
        "colab_type": "code",
        "outputId": "0a9e3f31-2b51-47af-f5fb-0014ac05d7a2",
        "colab": {
          "base_uri": "https://localhost:8080/",
          "height": 221
        }
      },
      "source": [
        "print(confusion_matrix(y_test,y_pred))  \n",
        "print(classification_report(y_test,y_pred))  \n",
        "print(accuracy_score(y_test, y_pred))"
      ],
      "execution_count": 0,
      "outputs": [
        {
          "output_type": "stream",
          "text": [
            "[[2634 1478]\n",
            " [ 249 1274]]\n",
            "              precision    recall  f1-score   support\n",
            "\n",
            "           0       0.91      0.64      0.75      4112\n",
            "           1       0.46      0.84      0.60      1523\n",
            "\n",
            "    accuracy                           0.69      5635\n",
            "   macro avg       0.69      0.74      0.67      5635\n",
            "weighted avg       0.79      0.69      0.71      5635\n",
            "\n",
            "0.6935226264418811\n"
          ],
          "name": "stdout"
        }
      ]
    },
    {
      "cell_type": "markdown",
      "metadata": {
        "id": "HeZDrfKMOvIH",
        "colab_type": "text"
      },
      "source": [
        "##K nearest Neighbours"
      ]
    },
    {
      "cell_type": "code",
      "metadata": {
        "id": "UtCFfz2MPDus",
        "colab_type": "code",
        "colab": {}
      },
      "source": [
        "from sklearn.neighbors import KNeighborsClassifier\n",
        "\n",
        "knn = KNeighborsClassifier(n_neighbors=20)\n",
        "knn.fit(X_train, y_train)\n",
        "y_pred = knn.predict(X_test)"
      ],
      "execution_count": 0,
      "outputs": []
    },
    {
      "cell_type": "code",
      "metadata": {
        "id": "vDZOdHfPPoIt",
        "colab_type": "code",
        "outputId": "8a4676db-0dae-449f-86f8-4005cccbd004",
        "colab": {
          "base_uri": "https://localhost:8080/",
          "height": 221
        }
      },
      "source": [
        "print(confusion_matrix(y_test,y_pred))  \n",
        "print(classification_report(y_test,y_pred))  \n",
        "print(accuracy_score(y_test, y_pred))"
      ],
      "execution_count": 0,
      "outputs": [
        {
          "output_type": "stream",
          "text": [
            "[[3945  167]\n",
            " [1168  355]]\n",
            "              precision    recall  f1-score   support\n",
            "\n",
            "           0       0.77      0.96      0.86      4112\n",
            "           1       0.68      0.23      0.35      1523\n",
            "\n",
            "    accuracy                           0.76      5635\n",
            "   macro avg       0.73      0.60      0.60      5635\n",
            "weighted avg       0.75      0.76      0.72      5635\n",
            "\n",
            "0.7630878438331854\n"
          ],
          "name": "stdout"
        }
      ]
    },
    {
      "cell_type": "markdown",
      "metadata": {
        "id": "9Nm8jjqWPyDF",
        "colab_type": "text"
      },
      "source": [
        "##Using SVM"
      ]
    },
    {
      "cell_type": "code",
      "metadata": {
        "id": "ER3MTUUfPz_q",
        "colab_type": "code",
        "colab": {}
      },
      "source": [
        "from sklearn.svm import SVC\n",
        "svm = SVC(kernel=\"linear\",C=0.025,random_state=101)\n",
        "svm.fit(X_train,y_train)\n",
        "y_pred = svm.predict(X_test)"
      ],
      "execution_count": 0,
      "outputs": []
    },
    {
      "cell_type": "code",
      "metadata": {
        "id": "7xxLSkXpQHi_",
        "colab_type": "code",
        "outputId": "dbfa98a0-1a69-43f3-b55e-a68e51e2bfbf",
        "colab": {
          "base_uri": "https://localhost:8080/",
          "height": 221
        }
      },
      "source": [
        "print(confusion_matrix(y_test,y_pred))  \n",
        "print(classification_report(y_test,y_pred))  \n",
        "print(accuracy_score(y_test, y_pred))"
      ],
      "execution_count": 0,
      "outputs": [
        {
          "output_type": "stream",
          "text": [
            "[[3669  443]\n",
            " [ 758  765]]\n",
            "              precision    recall  f1-score   support\n",
            "\n",
            "           0       0.83      0.89      0.86      4112\n",
            "           1       0.63      0.50      0.56      1523\n",
            "\n",
            "    accuracy                           0.79      5635\n",
            "   macro avg       0.73      0.70      0.71      5635\n",
            "weighted avg       0.78      0.79      0.78      5635\n",
            "\n",
            "0.7868677905944986\n"
          ],
          "name": "stdout"
        }
      ]
    }
  ]
}